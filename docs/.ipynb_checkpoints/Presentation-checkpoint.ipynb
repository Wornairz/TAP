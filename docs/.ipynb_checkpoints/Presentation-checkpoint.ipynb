{
 "cells": [
  {
   "cell_type": "markdown",
   "metadata": {
    "slideshow": {
     "slide_type": "slide"
    }
   },
   "source": [
    "# TapEth\n",
    "\n",
    "## Project Goal\n",
    "\n",
    "The main goal of this project is to statistically analyze incoming _pending transaction_ from the **Ethereum** main network and estimate their waiting time before being mined in a block.\n",
    "\n",
    "\n",
    "## Developer\n",
    "\n",
    "I'm **Alessandro Catalano** (you can find me everywhere as **Wornairz**) and i'm a CS student at UniCT. <br>\n",
    "I'm interested on Software Engineering, Distributed Computing and Cloud Computing."
   ]
  },
  {
   "cell_type": "markdown",
   "metadata": {
    "slideshow": {
     "slide_type": "slide"
    }
   },
   "source": [
    "## Which API are used\n",
    "\n",
    "| Service | Description |  |  |\n",
    "| :------- | :----------- | ----- | ----- |\n",
    "| **Infura**  | provides a **geth** node for free, used for JSON-RPC API of Ethereum | <img src=\"./img/infura.svg\" width=\"100\" height=\"60\"/> | <img src=\"./img/geth.png\" width=\"50\" height=\"60\"/> |\n",
    "| **ETH Gas Station** | provides a **prediction table** based on the last 200 transactions | <img src=\"./img/ethgasstation.png\" width=\"60\" height=\"70\"/> | |\n"
   ]
  },
  {
   "cell_type": "markdown",
   "metadata": {
    "slideshow": {
     "slide_type": "slide"
    }
   },
   "source": [
    "## geth / Infura JSON-RPC API example"
   ]
  },
  {
   "cell_type": "code",
   "execution_count": 1,
   "metadata": {
    "slideshow": {
     "slide_type": "skip"
    }
   },
   "outputs": [],
   "source": [
    "import nest_asyncio\n",
    "nest_asyncio.apply()"
   ]
  },
  {
   "cell_type": "code",
   "execution_count": 2,
   "metadata": {
    "slideshow": {
     "slide_type": "subslide"
    }
   },
   "outputs": [
    {
     "name": "stdout",
     "output_type": "stream",
     "text": [
      "Insert your infura wss uri: wss://mainnet.infura.io/ws/v3/b8c47bf19cac4d448b3b329f89b0460e\n",
      "Connected successfully\n",
      "< {\"jsonrpc\":\"2.0\",\"id\":1,\"result\":\"0x49f3773c497b685e6eb1ebbf6b1a4beb\"}\n",
      "< {\"jsonrpc\":\"2.0\",\"method\":\"eth_subscription\",\"params\":{\"subscription\":\"0x49f3773c497b685e6eb1ebbf6b1a4beb\",\"result\":\"0x182b4176962b26c816f1a5df2936e9574129c44222f165c9a7d7c37d8ccadf24\"}}\n",
      "\n",
      "< {\"jsonrpc\":\"2.0\",\"method\":\"eth_subscription\",\"params\":{\"subscription\":\"0x49f3773c497b685e6eb1ebbf6b1a4beb\",\"result\":\"0x12c0ea814322320f50e00ee5ae790634bde1a4c7766fcd401088e9bfa35697c4\"}}\n",
      "\n",
      "< {\"jsonrpc\":\"2.0\",\"method\":\"eth_subscription\",\"params\":{\"subscription\":\"0x49f3773c497b685e6eb1ebbf6b1a4beb\",\"result\":\"0xb0a95ed78d3d5f7cfd755fd8037904dc1ab0f45be018b0fe0b547ebf67963cb1\"}}\n",
      "\n",
      "< {\"jsonrpc\":\"2.0\",\"method\":\"eth_subscription\",\"params\":{\"subscription\":\"0x49f3773c497b685e6eb1ebbf6b1a4beb\",\"result\":\"0x30a00a4e31b01e07753a2a53e0dda445f86a86caa58fc800d244862794c7e39b\"}}\n",
      "\n"
     ]
    }
   ],
   "source": [
    "import asyncio\n",
    "import websockets\n",
    "\n",
    "new_pending_transactions_request = '{\"jsonrpc\":\"2.0\", \"id\": 1, \"method\": \"eth_subscribe\", \"params\": [\"newPendingTransactions\"]}'\n",
    "\n",
    "wss_uri = input(\"Insert your infura wss uri: \")\n",
    "async def newPendingTransactions():\n",
    "    async with websockets.connect(wss_uri) as websocket:\n",
    "        print(\"Connected successfully\")\n",
    "        await websocket.send(new_pending_transactions_request)\n",
    "\n",
    "        for i in range(0, 5):\n",
    "            transaction = await websocket.recv()\n",
    "            print(f\"< {transaction}\")\n",
    "\n",
    "asyncio.get_event_loop().run_until_complete(newPendingTransactions())"
   ]
  },
  {
   "cell_type": "code",
   "execution_count": null,
   "metadata": {
    "scrolled": true,
    "slideshow": {
     "slide_type": "subslide"
    }
   },
   "outputs": [],
   "source": [
    "import asyncio\n",
    "import websockets\n",
    "\n",
    "new_blocks_request = '{\"jsonrpc\":\"2.0\", \"id\": 1, \"method\": \"eth_subscribe\", \"params\": [\"newHeads\"]}'\n",
    "\n",
    "wss_uri = input(\"Insert your infura wss uri: \")\n",
    "async def newBlocks():\n",
    "    async with websockets.connect(wss_uri) as websocket:\n",
    "        print(\"Connected successfully\")\n",
    "        await websocket.send(new_blocks_request)\n",
    "\n",
    "        for i in range(0, 5):\n",
    "            new_block = await websocket.recv()\n",
    "            print(f\"< {new_block}\")\n",
    "\n",
    "asyncio.get_event_loop().run_until_complete(newBlocks())"
   ]
  },
  {
   "cell_type": "markdown",
   "metadata": {
    "slideshow": {
     "slide_type": "slide"
    }
   },
   "source": [
    "## ETH Gas Station API example"
   ]
  },
  {
   "cell_type": "code",
   "execution_count": null,
   "metadata": {
    "scrolled": true,
    "slideshow": {
     "slide_type": "subslide"
    }
   },
   "outputs": [],
   "source": [
    "import requests\n",
    "\n",
    "data = requests.get(\"https://ethgasstation.info/api/predictTable.json\")\n",
    "print(data.text)"
   ]
  },
  {
   "cell_type": "markdown",
   "metadata": {
    "slideshow": {
     "slide_type": "slide"
    }
   },
   "source": [
    "## Technologies used\n",
    "\n",
    "<img src=\"./img/technologies.png\">"
   ]
  },
  {
   "cell_type": "markdown",
   "metadata": {
    "slideshow": {
     "slide_type": "subslide"
    }
   },
   "source": [
    "<img src=\"./meme/tom_tech.jpg\"/>"
   ]
  },
  {
   "cell_type": "markdown",
   "metadata": {
    "slideshow": {
     "slide_type": "subslide"
    }
   },
   "source": [
    "<img src=\"./meme/soldiers.jpg\" align=\"center\"/>"
   ]
  },
  {
   "cell_type": "markdown",
   "metadata": {
    "slideshow": {
     "slide_type": "slide"
    }
   },
   "source": [
    "## Data source\n",
    "\n",
    "| | | |\n",
    "|-|-|-|\n",
    "|<img src=\"./img/ethereum.png\" width=\"130\" height=\"200\">|<img src=\"./img/plus.png\" width=\"80\" height=\"80\">|<img src=\"./img/infura.svg\" width=\"250\" height=\"150\">|\n",
    "\n",
    "- Ethereum it's a decentralized open source blockchain featuring smart contract functionality. It's the second largest cryptocurrency platform by market capitalization, behind Bitcoin.\n",
    "- Infura is a service that provides a free (with limitations) geth node"
   ]
  },
  {
   "cell_type": "markdown",
   "metadata": {
    "slideshow": {
     "slide_type": "slide"
    }
   },
   "source": [
    "# Kafka\n",
    "\n",
    "Apache Kafka is an open-source stream-processing software platform developed by the Apache Software Foundation, written in Scala and Java.\n",
    "<img src=\"./img/Kafka.png\" width=\"400\" height=\"300\"/>\n",
    "Apache Kafka aims to provide a unified, high-throughput, low-latency platform for handling real-time data feeds. <br>\n",
    "Kafka it's also scalable and fault-tolerant."
   ]
  },
  {
   "cell_type": "markdown",
   "metadata": {
    "slideshow": {
     "slide_type": "subslide"
    }
   },
   "source": [
    "## Kafka Connect\n",
    "\n",
    "Kafka Connect, an open source component of Apache Kafka, is a framework for connecting Kafka with external systems such as databases, key-value stores, search indexes, and file systems. <br>\n",
    "In TapEth, Kafka Connect is used for **data ingestion**, reading incoming pending transaction, through a websocket, from Infura. <br>\n",
    "A custom Kafka Connector was developed, in **Java**, for this purpouse."
   ]
  },
  {
   "cell_type": "markdown",
   "metadata": {
    "slideshow": {
     "slide_type": "subslide"
    }
   },
   "source": [
    "<img src=\"./meme/flume joke.jpg\"/>"
   ]
  },
  {
   "cell_type": "markdown",
   "metadata": {
    "slideshow": {
     "slide_type": "subslide"
    }
   },
   "source": [
    "After reading the pending transactions details, the data is written into a Kafka **topic** that will be later consumed by Spark application.\n",
    "<img src=\"./img/kafka topic.png\"/>"
   ]
  },
  {
   "cell_type": "markdown",
   "metadata": {
    "slideshow": {
     "slide_type": "slide"
    }
   },
   "source": [
    "# Spark\n",
    "\n",
    "Apache Spark is an open-source distributed general-purpose cluster-computing framework; it's also fault tolerant.<br> It's an Apache's top project.\n",
    "<img src=\"./img/spark.png\" width=\"550\" height=\"350\"/>\n",
    "Spark is usually used into the Hadoop ecosystem. Spark completely replaced Hadoop's Map-Reduce, as it's way faster since Spark performs operation in memory."
   ]
  },
  {
   "cell_type": "markdown",
   "metadata": {
    "slideshow": {
     "slide_type": "subslide"
    }
   },
   "source": [
    "### The Spark application was written entirely in **Java**.\n",
    "<img src=\"./meme/python no power.jpg\"/>"
   ]
  },
  {
   "cell_type": "markdown",
   "metadata": {
    "slideshow": {
     "slide_type": "subslide"
    }
   },
   "source": [
    "<img src=\"./meme/nicotra vs java.jpg\"/>"
   ]
  },
  {
   "cell_type": "markdown",
   "metadata": {
    "slideshow": {
     "slide_type": "subslide"
    }
   },
   "source": [
    "# Spark Streaming\n",
    "\n",
    "Spark Streaming is an extension of the core Spark API that enables scalable, high-throughput, fault-tolerant stream processing of live data streams.<br>\n",
    "Data can be ingested from various sources, in our case from Kafka, reading from the Kafka topic. <br>\n",
    "<img src=\"./img/spark streaming.png\"/>"
   ]
  },
  {
   "cell_type": "markdown",
   "metadata": {
    "slideshow": {
     "slide_type": "slide"
    }
   },
   "source": [
    "# Spark MLlib\n",
    "\n",
    "MLlib is Apache Spark's scalable machine learning library.\n",
    "<img src=\"./img/spark mllib.png\" width=\"500\" height=\"200\" style=\"margin: 0\"/>\n",
    "\n",
    "## Machine Learning Model\n",
    "A LinearRegressionModel is used for estimating the waiting time of each transaction. The model is created from the **Eth Gas Station** prediction table."
   ]
  },
  {
   "cell_type": "markdown",
   "metadata": {
    "slideshow": {
     "slide_type": "subslide"
    }
   },
   "source": [
    "<img  src=\"./meme/zero.jpg\"/>"
   ]
  },
  {
   "cell_type": "markdown",
   "metadata": {
    "slideshow": {
     "slide_type": "notes"
    }
   },
   "source": [
    "<img src=\"./meme/negative values.jpg\"/>"
   ]
  },
  {
   "cell_type": "markdown",
   "metadata": {
    "slideshow": {
     "slide_type": "slide"
    }
   },
   "source": [
    "# Elastic Search\n",
    "\n",
    "Elasticsearch is a search engine based on the Apache Lucene library. It provides a distributed full-text search engine with an HTTP web interface and schema-free JSON documents.\n",
    "Elasticsearch can be used to search all kinds of documents. It provides scalable search and has near real-time search.\n",
    "\n",
    "<img src=\"./img/elasticsearch.svg\"/>\n"
   ]
  },
  {
   "cell_type": "markdown",
   "metadata": {
    "slideshow": {
     "slide_type": "slide"
    }
   },
   "source": [
    "# Kibana\n",
    "\n",
    "Kibana is an open source data visualization dashboard for Elasticsearch. It provides visualization capabilities on top of the content indexed on an Elasticsearch cluster. <br>\n",
    "Users can create bar, line and scatter plots, or pie charts and maps on top of large volumes of data.\n",
    "\n",
    "<img src=\"./img/kibana.png\" width=\"500\" height=\"300\" />\n",
    "\n",
    "Demo [here](http://localhost:5601)"
   ]
  },
  {
   "cell_type": "markdown",
   "metadata": {
    "slideshow": {
     "slide_type": "slide"
    }
   },
   "source": [
    "<img src=\"./meme/shame java.jpg\"/>"
   ]
  },
  {
   "cell_type": "markdown",
   "metadata": {
    "slideshow": {
     "slide_type": "slide"
    }
   },
   "source": [
    "# Thank you for your attention\n",
    "\n",
    "I Hope you enjoyed the presentation"
   ]
  },
  {
   "cell_type": "markdown",
   "metadata": {
    "slideshow": {
     "slide_type": "fragment"
    }
   },
   "source": [
    "# Contacts\n",
    "\n",
    "| | | |\n",
    "|-|-|-|\n",
    "|<img src=\"./img/telegram.png\" width=\"50\" height=\"50\"> | Telegram | @Wornairz |\n",
    "|<img src=\"./img/email.png\" width=\"50\" height=\"50\"> | Email | catalano.alessandro@studium.unict.it |\n",
    "|<img src=\"./img/linkedin.png\" width=\"50\" height=\"50\"> | LinkedIn | Alessandro Catalano |"
   ]
  }
 ],
 "metadata": {
  "celltoolbar": "Slideshow",
  "kernelspec": {
   "display_name": "Python 3",
   "language": "python",
   "name": "python3"
  },
  "language_info": {
   "codemirror_mode": {
    "name": "ipython",
    "version": 3
   },
   "file_extension": ".py",
   "mimetype": "text/x-python",
   "name": "python",
   "nbconvert_exporter": "python",
   "pygments_lexer": "ipython3",
   "version": "3.8.3"
  }
 },
 "nbformat": 4,
 "nbformat_minor": 4
}
